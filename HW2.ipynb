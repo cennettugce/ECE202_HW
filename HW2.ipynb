{
  "nbformat": 4,
  "nbformat_minor": 0,
  "metadata": {
    "colab": {
      "provenance": []
    },
    "kernelspec": {
      "name": "python3",
      "display_name": "Python 3"
    },
    "language_info": {
      "name": "python"
    }
  },
  "cells": [
    {
      "cell_type": "code",
      "execution_count": null,
      "metadata": {
        "colab": {
          "base_uri": "https://localhost:8080/"
        },
        "id": "JiGbodatJS_w",
        "outputId": "e3f8350f-3d3a-45f2-b9e2-ae4fe9c9d4b7"
      },
      "outputs": [
        {
          "output_type": "stream",
          "name": "stdout",
          "text": [
            "Looking in indexes: https://pypi.org/simple, https://us-python.pkg.dev/colab-wheels/public/simple/\n",
            "Requirement already satisfied: anytree in /usr/local/lib/python3.8/dist-packages (2.8.0)\n",
            "Requirement already satisfied: six>=1.9.0 in /usr/local/lib/python3.8/dist-packages (from anytree) (1.15.0)\n"
          ]
        }
      ],
      "source": [
        "\n",
        "import numpy as np\n",
        "# traverses vertices reachable from s.\n",
        "from collections import defaultdict"
      ]
    },
    {
      "cell_type": "code",
      "source": [
        "offset_list = np.zeros(30)\n",
        "with open('/content/drive/MyDrive/Colab Notebooks/HW2/HW_2.2.txt') as f:\n",
        "    lines = f.readlines()\n",
        "print(len(lines))\n",
        "\n",
        "offset_list = np.zeros((len(lines),3))\n",
        "for i in range(len(lines)):\n",
        "  offset_list[i] = lines[i].split(\",\")\n",
        "print(offset_list)"
      ],
      "metadata": {
        "colab": {
          "base_uri": "https://localhost:8080/"
        },
        "id": "YKJ48tBuJT9k",
        "outputId": "e4a30e12-1dbb-4e92-f37a-bd908921cad4"
      },
      "execution_count": null,
      "outputs": [
        {
          "output_type": "stream",
          "name": "stdout",
          "text": [
            "30\n",
            "[[ 7.       9.      -4.851  ]\n",
            " [ 7.       2.       2.9585 ]\n",
            " [ 7.       5.      -4.3057 ]\n",
            " [ 7.       3.       1.9569 ]\n",
            " [ 7.       4.       4.4298 ]\n",
            " [ 7.       0.      -0.57024]\n",
            " [ 9.       0.       4.9738 ]\n",
            " [ 9.       3.       6.7302 ]\n",
            " [ 9.       4.       9.3592 ]\n",
            " [ 9.       2.       8.1628 ]\n",
            " [ 9.       6.       1.361  ]\n",
            " [ 0.       4.       4.8603 ]\n",
            " [ 0.       5.      -3.9274 ]\n",
            " [ 0.       8.       3.426  ]\n",
            " [ 0.       6.      -3.5175 ]\n",
            " [ 0.       1.       0.83131]\n",
            " [ 4.       8.      -1.3038 ]\n",
            " [ 4.       1.      -3.9057 ]\n",
            " [ 4.       5.      -9.2724 ]\n",
            " [ 4.       2.      -1.9237 ]\n",
            " [ 8.       6.      -6.5603 ]\n",
            " [ 8.       2.      -0.56773]\n",
            " [ 8.       1.      -2.9797 ]\n",
            " [ 8.       5.      -8.4274 ]\n",
            " [ 8.       3.      -2.1633 ]\n",
            " [ 6.       2.       6.5333 ]\n",
            " [ 2.       5.      -7.8453 ]\n",
            " [ 2.       1.      -2.3873 ]\n",
            " [ 3.       1.      -1.1802 ]\n",
            " [ 5.       1.       4.9125 ]]\n"
          ]
        }
      ]
    },
    {
      "cell_type": "code",
      "source": [
        "arr = np.zeros((10,10))\n",
        "for i in offset_list:\n",
        "  arr[int(i[0])][int(i[1])] = i[2]\n",
        "\n",
        "print(arr)"
      ],
      "metadata": {
        "colab": {
          "base_uri": "https://localhost:8080/"
        },
        "id": "N6hsbE27zX3k",
        "outputId": "9774eb30-e5cd-4e42-8a28-8ccefca19031"
      },
      "execution_count": null,
      "outputs": [
        {
          "output_type": "stream",
          "name": "stdout",
          "text": [
            "[[ 0.       0.83131  0.       0.       4.8603  -3.9274  -3.5175   0.\n",
            "   3.426    0.     ]\n",
            " [ 0.       0.       0.       0.       0.       0.       0.       0.\n",
            "   0.       0.     ]\n",
            " [ 0.      -2.3873   0.       0.       0.      -7.8453   0.       0.\n",
            "   0.       0.     ]\n",
            " [ 0.      -1.1802   0.       0.       0.       0.       0.       0.\n",
            "   0.       0.     ]\n",
            " [ 0.      -3.9057  -1.9237   0.       0.      -9.2724   0.       0.\n",
            "  -1.3038   0.     ]\n",
            " [ 0.       4.9125   0.       0.       0.       0.       0.       0.\n",
            "   0.       0.     ]\n",
            " [ 0.       0.       6.5333   0.       0.       0.       0.       0.\n",
            "   0.       0.     ]\n",
            " [-0.57024  0.       2.9585   1.9569   4.4298  -4.3057   0.       0.\n",
            "   0.      -4.851  ]\n",
            " [ 0.      -2.9797  -0.56773 -2.1633   0.      -8.4274  -6.5603   0.\n",
            "   0.       0.     ]\n",
            " [ 4.9738   0.       8.1628   6.7302   9.3592   0.       1.361    0.\n",
            "   0.       0.     ]]\n"
          ]
        }
      ]
    },
    {
      "cell_type": "code",
      "execution_count": null,
      "metadata": {
        "id": "74FvESUc4Etz",
        "colab": {
          "base_uri": "https://localhost:8080/"
        },
        "outputId": "4e468127-e824-4929-d7e2-a4f6aa5a5be7"
      },
      "outputs": [
        {
          "output_type": "stream",
          "name": "stdout",
          "text": [
            "offset of  8 :  3.49125\n",
            "offset of  6 :  -3.2185333333333332\n",
            "offset of  5 :  -4.655565999999999\n",
            "offset of  4 :  4.8603\n",
            "offset of  3 :  1.32795\n",
            "offset of  2 :  3.1213233333333332\n",
            "offset of  1 :  0.4580904545454541\n",
            "offset of  7 :  -0.22372000000000009\n",
            "offset of  9 :  4.9738\n"
          ]
        }
      ],
      "source": [
        "class Graph:\n",
        "\n",
        "  def __init__(self, vertices):\n",
        "    self.V = vertices\n",
        "    self. graph = defaultdict(list)\n",
        "    self.offset = 0 \n",
        "    self.count = 1\n",
        "    self.off = 0\n",
        "  \n",
        "  def addEdge(self, u, v):\n",
        "    self. graph[u].append(v)\n",
        "\n",
        "  def AllPathsUtil(self, u,d, visited, path, array):\n",
        "    \n",
        "    visited[u] = True\n",
        "    path.append(u)\n",
        "\n",
        "    if u==d:\n",
        "      #print(path)\n",
        "      self.count = self.count +1\n",
        "      off=0\n",
        "      for i in range(len(path)-1):\n",
        "        off = off + array[path[i]][path[i+1]]\n",
        "      self.offset = (self.offset + off)\n",
        "      #print(off)\n",
        "      #print(self.offset)\n",
        "      #print(self.count)\n",
        "    else:\n",
        "      for i in self.graph[u]:\n",
        "        if visited[i] ==False:\n",
        "          self.AllPathsUtil(i, d, visited, path,array)\n",
        "\n",
        "    path.pop()\n",
        "    visited[u] = False\n",
        "\n",
        "\n",
        "  def AllPaths(self, s,d, array):\n",
        "    visited = [False]*(self.V)\n",
        "    path = []\n",
        "    self.count = 1\n",
        "    self.offset = 0\n",
        "    self.AllPathsUtil(s, d, visited, path, array)\n",
        "    self.offset = self.offset/(self.count-1)\n",
        "   \n",
        "\n",
        "g = Graph(10)\n",
        "for i in offset_list:\n",
        "  g.addEdge(int(i[0]), int(i[1]))\n",
        "\n",
        "s = 0; \n",
        "for i in [8 , 6, 5, 4, 3, 2, 1]:\n",
        "  g.AllPaths(s,i, arr)\n",
        "  print('offset of ', i, ': ',g.offset)\n",
        "\n",
        "g.AllPaths(7,0, arr)\n",
        "print('offset of ', 7, ': ',g.offset)\n",
        "g.AllPaths(9,0, arr)\n",
        "print('offset of ', 9, ': ',g.offset)\n",
        "\n",
        "# This code is contributed by Neelam Yadav"
      ]
    }
  ]
}